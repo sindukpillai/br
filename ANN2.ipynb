{
  "nbformat": 4,
  "nbformat_minor": 0,
  "metadata": {
    "colab": {
      "provenance": []
    },
    "kernelspec": {
      "name": "python3",
      "display_name": "Python 3"
    },
    "language_info": {
      "name": "python"
    },
    "accelerator": "GPU",
    "gpuClass": "standard"
  },
  "cells": [
    {
      "cell_type": "code",
      "execution_count": null,
      "metadata": {
        "colab": {
          "base_uri": "https://localhost:8080/"
        },
        "id": "5c_yv72bvVKz",
        "outputId": "8bc84e47-b23c-45df-f89e-e00fa8024ec2"
      },
      "outputs": [
        {
          "output_type": "stream",
          "name": "stdout",
          "text": [
            "<class 'pandas.core.frame.DataFrame'>\n",
            "RangeIndex: 569 entries, 0 to 568\n",
            "Data columns (total 33 columns):\n",
            " #   Column                   Non-Null Count  Dtype  \n",
            "---  ------                   --------------  -----  \n",
            " 0   id                       569 non-null    int64  \n",
            " 1   diagnosis                569 non-null    object \n",
            " 2   radius_mean              569 non-null    float64\n",
            " 3   texture_mean             569 non-null    float64\n",
            " 4   perimeter_mean           569 non-null    float64\n",
            " 5   area_mean                569 non-null    float64\n",
            " 6   smoothness_mean          569 non-null    float64\n",
            " 7   compactness_mean         569 non-null    float64\n",
            " 8   concavity_mean           569 non-null    float64\n",
            " 9   concave points_mean      569 non-null    float64\n",
            " 10  symmetry_mean            569 non-null    float64\n",
            " 11  fractal_dimension_mean   569 non-null    float64\n",
            " 12  radius_se                569 non-null    float64\n",
            " 13  texture_se               569 non-null    float64\n",
            " 14  perimeter_se             569 non-null    float64\n",
            " 15  area_se                  569 non-null    float64\n",
            " 16  smoothness_se            569 non-null    float64\n",
            " 17  compactness_se           569 non-null    float64\n",
            " 18  concavity_se             569 non-null    float64\n",
            " 19  concave points_se        569 non-null    float64\n",
            " 20  symmetry_se              569 non-null    float64\n",
            " 21  fractal_dimension_se     569 non-null    float64\n",
            " 22  radius_worst             569 non-null    float64\n",
            " 23  texture_worst            569 non-null    float64\n",
            " 24  perimeter_worst          569 non-null    float64\n",
            " 25  area_worst               569 non-null    float64\n",
            " 26  smoothness_worst         569 non-null    float64\n",
            " 27  compactness_worst        569 non-null    float64\n",
            " 28  concavity_worst          569 non-null    float64\n",
            " 29  concave points_worst     569 non-null    float64\n",
            " 30  symmetry_worst           569 non-null    float64\n",
            " 31  fractal_dimension_worst  569 non-null    float64\n",
            " 32  Unnamed: 32              0 non-null      float64\n",
            "dtypes: float64(31), int64(1), object(1)\n",
            "memory usage: 146.8+ KB\n"
          ]
        }
      ],
      "source": [
        "import pandas as pd\n",
        "data=pd.read_csv(\"breastcancer.csv\")\n",
        "data.info()\n"
      ]
    },
    {
      "cell_type": "code",
      "source": [],
      "metadata": {
        "id": "14uIPnTnXkxl"
      },
      "execution_count": null,
      "outputs": []
    },
    {
      "cell_type": "code",
      "source": [
        "data['diagnosis'].value_counts()"
      ],
      "metadata": {
        "colab": {
          "base_uri": "https://localhost:8080/"
        },
        "id": "03KLNcIbwEOa",
        "outputId": "4bd433e1-4930-4fdf-94e3-28a277f4a471"
      },
      "execution_count": null,
      "outputs": [
        {
          "output_type": "execute_result",
          "data": {
            "text/plain": [
              "B    357\n",
              "M    212\n",
              "Name: diagnosis, dtype: int64"
            ]
          },
          "metadata": {},
          "execution_count": 3
        }
      ]
    },
    {
      "cell_type": "code",
      "source": [
        "data.columns\n",
        "data.isna().sum()\n",
        "data.drop(['Unnamed: 32'],axis=1,inplace=True)"
      ],
      "metadata": {
        "id": "ZHwJ35Fowjpu"
      },
      "execution_count": null,
      "outputs": []
    },
    {
      "cell_type": "code",
      "source": [
        "data['diagnosis']=data['diagnosis'].map({\"B\":0,\"M\":1})"
      ],
      "metadata": {
        "id": "3heijyWqx0wq"
      },
      "execution_count": null,
      "outputs": []
    },
    {
      "cell_type": "code",
      "source": [
        "y=data['diagnosis']\n",
        "\n",
        "x=data[['radius_mean', 'texture_mean', 'perimeter_mean',\n",
        "       'area_mean', 'smoothness_mean', 'compactness_mean', 'concavity_mean',\n",
        "       'concave points_mean', 'symmetry_mean', 'fractal_dimension_mean',\n",
        "       'radius_se', 'texture_se', 'perimeter_se', 'area_se', 'smoothness_se',\n",
        "       'compactness_se', 'concavity_se', 'concave points_se', 'symmetry_se',\n",
        "       'fractal_dimension_se', 'radius_worst', 'texture_worst',\n",
        "       'perimeter_worst', 'area_worst', 'smoothness_worst',\n",
        "       'compactness_worst', 'concavity_worst', 'concave points_worst',\n",
        "       'symmetry_worst', 'fractal_dimension_worst']]\n"
      ],
      "metadata": {
        "id": "8R9c6XMFwIIB"
      },
      "execution_count": null,
      "outputs": []
    },
    {
      "cell_type": "code",
      "source": [
        "data"
      ],
      "metadata": {
        "colab": {
          "base_uri": "https://localhost:8080/",
          "height": 505
        },
        "id": "bmxpUqgaxLe8",
        "outputId": "e8d65858-9529-4fb9-9e85-4624e1e43b06"
      },
      "execution_count": null,
      "outputs": [
        {
          "output_type": "execute_result",
          "data": {
            "text/plain": [
              "           id  diagnosis  radius_mean  texture_mean  perimeter_mean  \\\n",
              "0      842302          1        17.99         10.38          122.80   \n",
              "1      842517          1        20.57         17.77          132.90   \n",
              "2    84300903          1        19.69         21.25          130.00   \n",
              "3    84348301          1        11.42         20.38           77.58   \n",
              "4    84358402          1        20.29         14.34          135.10   \n",
              "..        ...        ...          ...           ...             ...   \n",
              "564    926424          1        21.56         22.39          142.00   \n",
              "565    926682          1        20.13         28.25          131.20   \n",
              "566    926954          1        16.60         28.08          108.30   \n",
              "567    927241          1        20.60         29.33          140.10   \n",
              "568     92751          0         7.76         24.54           47.92   \n",
              "\n",
              "     area_mean  smoothness_mean  compactness_mean  concavity_mean  \\\n",
              "0       1001.0          0.11840           0.27760         0.30010   \n",
              "1       1326.0          0.08474           0.07864         0.08690   \n",
              "2       1203.0          0.10960           0.15990         0.19740   \n",
              "3        386.1          0.14250           0.28390         0.24140   \n",
              "4       1297.0          0.10030           0.13280         0.19800   \n",
              "..         ...              ...               ...             ...   \n",
              "564     1479.0          0.11100           0.11590         0.24390   \n",
              "565     1261.0          0.09780           0.10340         0.14400   \n",
              "566      858.1          0.08455           0.10230         0.09251   \n",
              "567     1265.0          0.11780           0.27700         0.35140   \n",
              "568      181.0          0.05263           0.04362         0.00000   \n",
              "\n",
              "     concave points_mean  ...  radius_worst  texture_worst  perimeter_worst  \\\n",
              "0                0.14710  ...        25.380          17.33           184.60   \n",
              "1                0.07017  ...        24.990          23.41           158.80   \n",
              "2                0.12790  ...        23.570          25.53           152.50   \n",
              "3                0.10520  ...        14.910          26.50            98.87   \n",
              "4                0.10430  ...        22.540          16.67           152.20   \n",
              "..                   ...  ...           ...            ...              ...   \n",
              "564              0.13890  ...        25.450          26.40           166.10   \n",
              "565              0.09791  ...        23.690          38.25           155.00   \n",
              "566              0.05302  ...        18.980          34.12           126.70   \n",
              "567              0.15200  ...        25.740          39.42           184.60   \n",
              "568              0.00000  ...         9.456          30.37            59.16   \n",
              "\n",
              "     area_worst  smoothness_worst  compactness_worst  concavity_worst  \\\n",
              "0        2019.0           0.16220            0.66560           0.7119   \n",
              "1        1956.0           0.12380            0.18660           0.2416   \n",
              "2        1709.0           0.14440            0.42450           0.4504   \n",
              "3         567.7           0.20980            0.86630           0.6869   \n",
              "4        1575.0           0.13740            0.20500           0.4000   \n",
              "..          ...               ...                ...              ...   \n",
              "564      2027.0           0.14100            0.21130           0.4107   \n",
              "565      1731.0           0.11660            0.19220           0.3215   \n",
              "566      1124.0           0.11390            0.30940           0.3403   \n",
              "567      1821.0           0.16500            0.86810           0.9387   \n",
              "568       268.6           0.08996            0.06444           0.0000   \n",
              "\n",
              "     concave points_worst  symmetry_worst  fractal_dimension_worst  \n",
              "0                  0.2654          0.4601                  0.11890  \n",
              "1                  0.1860          0.2750                  0.08902  \n",
              "2                  0.2430          0.3613                  0.08758  \n",
              "3                  0.2575          0.6638                  0.17300  \n",
              "4                  0.1625          0.2364                  0.07678  \n",
              "..                    ...             ...                      ...  \n",
              "564                0.2216          0.2060                  0.07115  \n",
              "565                0.1628          0.2572                  0.06637  \n",
              "566                0.1418          0.2218                  0.07820  \n",
              "567                0.2650          0.4087                  0.12400  \n",
              "568                0.0000          0.2871                  0.07039  \n",
              "\n",
              "[569 rows x 32 columns]"
            ],
            "text/html": [
              "\n",
              "  <div id=\"df-e800c2e5-056c-4699-95e6-37ebfff5ff28\">\n",
              "    <div class=\"colab-df-container\">\n",
              "      <div>\n",
              "<style scoped>\n",
              "    .dataframe tbody tr th:only-of-type {\n",
              "        vertical-align: middle;\n",
              "    }\n",
              "\n",
              "    .dataframe tbody tr th {\n",
              "        vertical-align: top;\n",
              "    }\n",
              "\n",
              "    .dataframe thead th {\n",
              "        text-align: right;\n",
              "    }\n",
              "</style>\n",
              "<table border=\"1\" class=\"dataframe\">\n",
              "  <thead>\n",
              "    <tr style=\"text-align: right;\">\n",
              "      <th></th>\n",
              "      <th>id</th>\n",
              "      <th>diagnosis</th>\n",
              "      <th>radius_mean</th>\n",
              "      <th>texture_mean</th>\n",
              "      <th>perimeter_mean</th>\n",
              "      <th>area_mean</th>\n",
              "      <th>smoothness_mean</th>\n",
              "      <th>compactness_mean</th>\n",
              "      <th>concavity_mean</th>\n",
              "      <th>concave points_mean</th>\n",
              "      <th>...</th>\n",
              "      <th>radius_worst</th>\n",
              "      <th>texture_worst</th>\n",
              "      <th>perimeter_worst</th>\n",
              "      <th>area_worst</th>\n",
              "      <th>smoothness_worst</th>\n",
              "      <th>compactness_worst</th>\n",
              "      <th>concavity_worst</th>\n",
              "      <th>concave points_worst</th>\n",
              "      <th>symmetry_worst</th>\n",
              "      <th>fractal_dimension_worst</th>\n",
              "    </tr>\n",
              "  </thead>\n",
              "  <tbody>\n",
              "    <tr>\n",
              "      <th>0</th>\n",
              "      <td>842302</td>\n",
              "      <td>1</td>\n",
              "      <td>17.99</td>\n",
              "      <td>10.38</td>\n",
              "      <td>122.80</td>\n",
              "      <td>1001.0</td>\n",
              "      <td>0.11840</td>\n",
              "      <td>0.27760</td>\n",
              "      <td>0.30010</td>\n",
              "      <td>0.14710</td>\n",
              "      <td>...</td>\n",
              "      <td>25.380</td>\n",
              "      <td>17.33</td>\n",
              "      <td>184.60</td>\n",
              "      <td>2019.0</td>\n",
              "      <td>0.16220</td>\n",
              "      <td>0.66560</td>\n",
              "      <td>0.7119</td>\n",
              "      <td>0.2654</td>\n",
              "      <td>0.4601</td>\n",
              "      <td>0.11890</td>\n",
              "    </tr>\n",
              "    <tr>\n",
              "      <th>1</th>\n",
              "      <td>842517</td>\n",
              "      <td>1</td>\n",
              "      <td>20.57</td>\n",
              "      <td>17.77</td>\n",
              "      <td>132.90</td>\n",
              "      <td>1326.0</td>\n",
              "      <td>0.08474</td>\n",
              "      <td>0.07864</td>\n",
              "      <td>0.08690</td>\n",
              "      <td>0.07017</td>\n",
              "      <td>...</td>\n",
              "      <td>24.990</td>\n",
              "      <td>23.41</td>\n",
              "      <td>158.80</td>\n",
              "      <td>1956.0</td>\n",
              "      <td>0.12380</td>\n",
              "      <td>0.18660</td>\n",
              "      <td>0.2416</td>\n",
              "      <td>0.1860</td>\n",
              "      <td>0.2750</td>\n",
              "      <td>0.08902</td>\n",
              "    </tr>\n",
              "    <tr>\n",
              "      <th>2</th>\n",
              "      <td>84300903</td>\n",
              "      <td>1</td>\n",
              "      <td>19.69</td>\n",
              "      <td>21.25</td>\n",
              "      <td>130.00</td>\n",
              "      <td>1203.0</td>\n",
              "      <td>0.10960</td>\n",
              "      <td>0.15990</td>\n",
              "      <td>0.19740</td>\n",
              "      <td>0.12790</td>\n",
              "      <td>...</td>\n",
              "      <td>23.570</td>\n",
              "      <td>25.53</td>\n",
              "      <td>152.50</td>\n",
              "      <td>1709.0</td>\n",
              "      <td>0.14440</td>\n",
              "      <td>0.42450</td>\n",
              "      <td>0.4504</td>\n",
              "      <td>0.2430</td>\n",
              "      <td>0.3613</td>\n",
              "      <td>0.08758</td>\n",
              "    </tr>\n",
              "    <tr>\n",
              "      <th>3</th>\n",
              "      <td>84348301</td>\n",
              "      <td>1</td>\n",
              "      <td>11.42</td>\n",
              "      <td>20.38</td>\n",
              "      <td>77.58</td>\n",
              "      <td>386.1</td>\n",
              "      <td>0.14250</td>\n",
              "      <td>0.28390</td>\n",
              "      <td>0.24140</td>\n",
              "      <td>0.10520</td>\n",
              "      <td>...</td>\n",
              "      <td>14.910</td>\n",
              "      <td>26.50</td>\n",
              "      <td>98.87</td>\n",
              "      <td>567.7</td>\n",
              "      <td>0.20980</td>\n",
              "      <td>0.86630</td>\n",
              "      <td>0.6869</td>\n",
              "      <td>0.2575</td>\n",
              "      <td>0.6638</td>\n",
              "      <td>0.17300</td>\n",
              "    </tr>\n",
              "    <tr>\n",
              "      <th>4</th>\n",
              "      <td>84358402</td>\n",
              "      <td>1</td>\n",
              "      <td>20.29</td>\n",
              "      <td>14.34</td>\n",
              "      <td>135.10</td>\n",
              "      <td>1297.0</td>\n",
              "      <td>0.10030</td>\n",
              "      <td>0.13280</td>\n",
              "      <td>0.19800</td>\n",
              "      <td>0.10430</td>\n",
              "      <td>...</td>\n",
              "      <td>22.540</td>\n",
              "      <td>16.67</td>\n",
              "      <td>152.20</td>\n",
              "      <td>1575.0</td>\n",
              "      <td>0.13740</td>\n",
              "      <td>0.20500</td>\n",
              "      <td>0.4000</td>\n",
              "      <td>0.1625</td>\n",
              "      <td>0.2364</td>\n",
              "      <td>0.07678</td>\n",
              "    </tr>\n",
              "    <tr>\n",
              "      <th>...</th>\n",
              "      <td>...</td>\n",
              "      <td>...</td>\n",
              "      <td>...</td>\n",
              "      <td>...</td>\n",
              "      <td>...</td>\n",
              "      <td>...</td>\n",
              "      <td>...</td>\n",
              "      <td>...</td>\n",
              "      <td>...</td>\n",
              "      <td>...</td>\n",
              "      <td>...</td>\n",
              "      <td>...</td>\n",
              "      <td>...</td>\n",
              "      <td>...</td>\n",
              "      <td>...</td>\n",
              "      <td>...</td>\n",
              "      <td>...</td>\n",
              "      <td>...</td>\n",
              "      <td>...</td>\n",
              "      <td>...</td>\n",
              "      <td>...</td>\n",
              "    </tr>\n",
              "    <tr>\n",
              "      <th>564</th>\n",
              "      <td>926424</td>\n",
              "      <td>1</td>\n",
              "      <td>21.56</td>\n",
              "      <td>22.39</td>\n",
              "      <td>142.00</td>\n",
              "      <td>1479.0</td>\n",
              "      <td>0.11100</td>\n",
              "      <td>0.11590</td>\n",
              "      <td>0.24390</td>\n",
              "      <td>0.13890</td>\n",
              "      <td>...</td>\n",
              "      <td>25.450</td>\n",
              "      <td>26.40</td>\n",
              "      <td>166.10</td>\n",
              "      <td>2027.0</td>\n",
              "      <td>0.14100</td>\n",
              "      <td>0.21130</td>\n",
              "      <td>0.4107</td>\n",
              "      <td>0.2216</td>\n",
              "      <td>0.2060</td>\n",
              "      <td>0.07115</td>\n",
              "    </tr>\n",
              "    <tr>\n",
              "      <th>565</th>\n",
              "      <td>926682</td>\n",
              "      <td>1</td>\n",
              "      <td>20.13</td>\n",
              "      <td>28.25</td>\n",
              "      <td>131.20</td>\n",
              "      <td>1261.0</td>\n",
              "      <td>0.09780</td>\n",
              "      <td>0.10340</td>\n",
              "      <td>0.14400</td>\n",
              "      <td>0.09791</td>\n",
              "      <td>...</td>\n",
              "      <td>23.690</td>\n",
              "      <td>38.25</td>\n",
              "      <td>155.00</td>\n",
              "      <td>1731.0</td>\n",
              "      <td>0.11660</td>\n",
              "      <td>0.19220</td>\n",
              "      <td>0.3215</td>\n",
              "      <td>0.1628</td>\n",
              "      <td>0.2572</td>\n",
              "      <td>0.06637</td>\n",
              "    </tr>\n",
              "    <tr>\n",
              "      <th>566</th>\n",
              "      <td>926954</td>\n",
              "      <td>1</td>\n",
              "      <td>16.60</td>\n",
              "      <td>28.08</td>\n",
              "      <td>108.30</td>\n",
              "      <td>858.1</td>\n",
              "      <td>0.08455</td>\n",
              "      <td>0.10230</td>\n",
              "      <td>0.09251</td>\n",
              "      <td>0.05302</td>\n",
              "      <td>...</td>\n",
              "      <td>18.980</td>\n",
              "      <td>34.12</td>\n",
              "      <td>126.70</td>\n",
              "      <td>1124.0</td>\n",
              "      <td>0.11390</td>\n",
              "      <td>0.30940</td>\n",
              "      <td>0.3403</td>\n",
              "      <td>0.1418</td>\n",
              "      <td>0.2218</td>\n",
              "      <td>0.07820</td>\n",
              "    </tr>\n",
              "    <tr>\n",
              "      <th>567</th>\n",
              "      <td>927241</td>\n",
              "      <td>1</td>\n",
              "      <td>20.60</td>\n",
              "      <td>29.33</td>\n",
              "      <td>140.10</td>\n",
              "      <td>1265.0</td>\n",
              "      <td>0.11780</td>\n",
              "      <td>0.27700</td>\n",
              "      <td>0.35140</td>\n",
              "      <td>0.15200</td>\n",
              "      <td>...</td>\n",
              "      <td>25.740</td>\n",
              "      <td>39.42</td>\n",
              "      <td>184.60</td>\n",
              "      <td>1821.0</td>\n",
              "      <td>0.16500</td>\n",
              "      <td>0.86810</td>\n",
              "      <td>0.9387</td>\n",
              "      <td>0.2650</td>\n",
              "      <td>0.4087</td>\n",
              "      <td>0.12400</td>\n",
              "    </tr>\n",
              "    <tr>\n",
              "      <th>568</th>\n",
              "      <td>92751</td>\n",
              "      <td>0</td>\n",
              "      <td>7.76</td>\n",
              "      <td>24.54</td>\n",
              "      <td>47.92</td>\n",
              "      <td>181.0</td>\n",
              "      <td>0.05263</td>\n",
              "      <td>0.04362</td>\n",
              "      <td>0.00000</td>\n",
              "      <td>0.00000</td>\n",
              "      <td>...</td>\n",
              "      <td>9.456</td>\n",
              "      <td>30.37</td>\n",
              "      <td>59.16</td>\n",
              "      <td>268.6</td>\n",
              "      <td>0.08996</td>\n",
              "      <td>0.06444</td>\n",
              "      <td>0.0000</td>\n",
              "      <td>0.0000</td>\n",
              "      <td>0.2871</td>\n",
              "      <td>0.07039</td>\n",
              "    </tr>\n",
              "  </tbody>\n",
              "</table>\n",
              "<p>569 rows × 32 columns</p>\n",
              "</div>\n",
              "      <button class=\"colab-df-convert\" onclick=\"convertToInteractive('df-e800c2e5-056c-4699-95e6-37ebfff5ff28')\"\n",
              "              title=\"Convert this dataframe to an interactive table.\"\n",
              "              style=\"display:none;\">\n",
              "        \n",
              "  <svg xmlns=\"http://www.w3.org/2000/svg\" height=\"24px\"viewBox=\"0 0 24 24\"\n",
              "       width=\"24px\">\n",
              "    <path d=\"M0 0h24v24H0V0z\" fill=\"none\"/>\n",
              "    <path d=\"M18.56 5.44l.94 2.06.94-2.06 2.06-.94-2.06-.94-.94-2.06-.94 2.06-2.06.94zm-11 1L8.5 8.5l.94-2.06 2.06-.94-2.06-.94L8.5 2.5l-.94 2.06-2.06.94zm10 10l.94 2.06.94-2.06 2.06-.94-2.06-.94-.94-2.06-.94 2.06-2.06.94z\"/><path d=\"M17.41 7.96l-1.37-1.37c-.4-.4-.92-.59-1.43-.59-.52 0-1.04.2-1.43.59L10.3 9.45l-7.72 7.72c-.78.78-.78 2.05 0 2.83L4 21.41c.39.39.9.59 1.41.59.51 0 1.02-.2 1.41-.59l7.78-7.78 2.81-2.81c.8-.78.8-2.07 0-2.86zM5.41 20L4 18.59l7.72-7.72 1.47 1.35L5.41 20z\"/>\n",
              "  </svg>\n",
              "      </button>\n",
              "      \n",
              "  <style>\n",
              "    .colab-df-container {\n",
              "      display:flex;\n",
              "      flex-wrap:wrap;\n",
              "      gap: 12px;\n",
              "    }\n",
              "\n",
              "    .colab-df-convert {\n",
              "      background-color: #E8F0FE;\n",
              "      border: none;\n",
              "      border-radius: 50%;\n",
              "      cursor: pointer;\n",
              "      display: none;\n",
              "      fill: #1967D2;\n",
              "      height: 32px;\n",
              "      padding: 0 0 0 0;\n",
              "      width: 32px;\n",
              "    }\n",
              "\n",
              "    .colab-df-convert:hover {\n",
              "      background-color: #E2EBFA;\n",
              "      box-shadow: 0px 1px 2px rgba(60, 64, 67, 0.3), 0px 1px 3px 1px rgba(60, 64, 67, 0.15);\n",
              "      fill: #174EA6;\n",
              "    }\n",
              "\n",
              "    [theme=dark] .colab-df-convert {\n",
              "      background-color: #3B4455;\n",
              "      fill: #D2E3FC;\n",
              "    }\n",
              "\n",
              "    [theme=dark] .colab-df-convert:hover {\n",
              "      background-color: #434B5C;\n",
              "      box-shadow: 0px 1px 3px 1px rgba(0, 0, 0, 0.15);\n",
              "      filter: drop-shadow(0px 1px 2px rgba(0, 0, 0, 0.3));\n",
              "      fill: #FFFFFF;\n",
              "    }\n",
              "  </style>\n",
              "\n",
              "      <script>\n",
              "        const buttonEl =\n",
              "          document.querySelector('#df-e800c2e5-056c-4699-95e6-37ebfff5ff28 button.colab-df-convert');\n",
              "        buttonEl.style.display =\n",
              "          google.colab.kernel.accessAllowed ? 'block' : 'none';\n",
              "\n",
              "        async function convertToInteractive(key) {\n",
              "          const element = document.querySelector('#df-e800c2e5-056c-4699-95e6-37ebfff5ff28');\n",
              "          const dataTable =\n",
              "            await google.colab.kernel.invokeFunction('convertToInteractive',\n",
              "                                                     [key], {});\n",
              "          if (!dataTable) return;\n",
              "\n",
              "          const docLinkHtml = 'Like what you see? Visit the ' +\n",
              "            '<a target=\"_blank\" href=https://colab.research.google.com/notebooks/data_table.ipynb>data table notebook</a>'\n",
              "            + ' to learn more about interactive tables.';\n",
              "          element.innerHTML = '';\n",
              "          dataTable['output_type'] = 'display_data';\n",
              "          await google.colab.output.renderOutput(dataTable, element);\n",
              "          const docLink = document.createElement('div');\n",
              "          docLink.innerHTML = docLinkHtml;\n",
              "          element.appendChild(docLink);\n",
              "        }\n",
              "      </script>\n",
              "    </div>\n",
              "  </div>\n",
              "  "
            ]
          },
          "metadata": {},
          "execution_count": 7
        }
      ]
    },
    {
      "cell_type": "code",
      "source": [
        "from tensorflow.keras.layers import Dense\n",
        "from tensorflow.keras.models import Sequential"
      ],
      "metadata": {
        "id": "VsCm2cyuwz1m"
      },
      "execution_count": null,
      "outputs": []
    },
    {
      "cell_type": "code",
      "source": [
        "from sklearn.model_selection import train_test_split\n",
        "x_train,x_test,y_train,y_test=train_test_split(x,y,test_size=.2,random_state=134)"
      ],
      "metadata": {
        "id": "39asAi6Ey8Ap"
      },
      "execution_count": null,
      "outputs": []
    },
    {
      "cell_type": "code",
      "source": [
        "model1=Sequential()"
      ],
      "metadata": {
        "id": "DptR4akyzAOm"
      },
      "execution_count": null,
      "outputs": []
    },
    {
      "cell_type": "code",
      "source": [
        "x.shape"
      ],
      "metadata": {
        "colab": {
          "base_uri": "https://localhost:8080/"
        },
        "id": "n638-uwvzNP0",
        "outputId": "2db90c82-bbd6-41d0-ee75-cb8437643bed"
      },
      "execution_count": null,
      "outputs": [
        {
          "output_type": "execute_result",
          "data": {
            "text/plain": [
              "(569, 30)"
            ]
          },
          "metadata": {},
          "execution_count": 11
        }
      ]
    },
    {
      "cell_type": "code",
      "source": [
        "model1.add(Dense(16,input_shape=(30,),activation=\"relu\"))\n",
        "model1.add(Dense(16,activation=\"relu\"))\n",
        "model1.add(Dense(8,activation=\"relu\"))\n",
        "model1.add(Dense(1,activation=\"sigmoid\"))\n",
        "model1.summary()"
      ],
      "metadata": {
        "colab": {
          "base_uri": "https://localhost:8080/"
        },
        "id": "weMtclzJzEVP",
        "outputId": "7b709966-0fd5-4b93-ba9e-31118cba8414"
      },
      "execution_count": null,
      "outputs": [
        {
          "output_type": "stream",
          "name": "stdout",
          "text": [
            "Model: \"sequential\"\n",
            "_________________________________________________________________\n",
            " Layer (type)                Output Shape              Param #   \n",
            "=================================================================\n",
            " dense (Dense)               (None, 16)                496       \n",
            "                                                                 \n",
            " dense_1 (Dense)             (None, 16)                272       \n",
            "                                                                 \n",
            " dense_2 (Dense)             (None, 8)                 136       \n",
            "                                                                 \n",
            " dense_3 (Dense)             (None, 1)                 9         \n",
            "                                                                 \n",
            "=================================================================\n",
            "Total params: 913\n",
            "Trainable params: 913\n",
            "Non-trainable params: 0\n",
            "_________________________________________________________________\n"
          ]
        }
      ]
    },
    {
      "cell_type": "code",
      "source": [
        "model1.compile(optimizer=\"adam\",loss=\"binary_crossentropy\",metrics=['accuracy'])"
      ],
      "metadata": {
        "id": "ko8Q6IKlzYhM"
      },
      "execution_count": null,
      "outputs": []
    },
    {
      "cell_type": "code",
      "source": [
        "model1.fit(x,y,epochs=20)"
      ],
      "metadata": {
        "colab": {
          "base_uri": "https://localhost:8080/"
        },
        "id": "QpDcQSREzeQY",
        "outputId": "d3187fc7-fc94-4778-aedb-f1637d3bfbec"
      },
      "execution_count": null,
      "outputs": [
        {
          "output_type": "stream",
          "name": "stdout",
          "text": [
            "Epoch 1/20\n",
            "18/18 [==============================] - 0s 3ms/step - loss: 0.3124 - accuracy: 0.8822\n",
            "Epoch 2/20\n",
            "18/18 [==============================] - 0s 3ms/step - loss: 0.2958 - accuracy: 0.8910\n",
            "Epoch 3/20\n",
            "18/18 [==============================] - 0s 3ms/step - loss: 0.3069 - accuracy: 0.8805\n",
            "Epoch 4/20\n",
            "18/18 [==============================] - 0s 3ms/step - loss: 0.3362 - accuracy: 0.8682\n",
            "Epoch 5/20\n",
            "18/18 [==============================] - 0s 3ms/step - loss: 0.3280 - accuracy: 0.8875\n",
            "Epoch 6/20\n",
            "18/18 [==============================] - 0s 3ms/step - loss: 0.2853 - accuracy: 0.8875\n",
            "Epoch 7/20\n",
            "18/18 [==============================] - 0s 3ms/step - loss: 0.2808 - accuracy: 0.9016\n",
            "Epoch 8/20\n",
            "18/18 [==============================] - 0s 3ms/step - loss: 0.2934 - accuracy: 0.8840\n",
            "Epoch 9/20\n",
            "18/18 [==============================] - 0s 3ms/step - loss: 0.3162 - accuracy: 0.8858\n",
            "Epoch 10/20\n",
            "18/18 [==============================] - 0s 3ms/step - loss: 0.3075 - accuracy: 0.8770\n",
            "Epoch 11/20\n",
            "18/18 [==============================] - 0s 3ms/step - loss: 0.2590 - accuracy: 0.9016\n",
            "Epoch 12/20\n",
            "18/18 [==============================] - 0s 3ms/step - loss: 0.2524 - accuracy: 0.9086\n",
            "Epoch 13/20\n",
            "18/18 [==============================] - 0s 3ms/step - loss: 0.2389 - accuracy: 0.9033\n",
            "Epoch 14/20\n",
            "18/18 [==============================] - 0s 3ms/step - loss: 0.2387 - accuracy: 0.9139\n",
            "Epoch 15/20\n",
            "18/18 [==============================] - 0s 3ms/step - loss: 0.2407 - accuracy: 0.9033\n",
            "Epoch 16/20\n",
            "18/18 [==============================] - 0s 3ms/step - loss: 0.2465 - accuracy: 0.9139\n",
            "Epoch 17/20\n",
            "18/18 [==============================] - 0s 3ms/step - loss: 0.2356 - accuracy: 0.9121\n",
            "Epoch 18/20\n",
            "18/18 [==============================] - 0s 3ms/step - loss: 0.2337 - accuracy: 0.9156\n",
            "Epoch 19/20\n",
            "18/18 [==============================] - 0s 3ms/step - loss: 0.2294 - accuracy: 0.9104\n",
            "Epoch 20/20\n",
            "18/18 [==============================] - 0s 3ms/step - loss: 0.2237 - accuracy: 0.9174\n"
          ]
        },
        {
          "output_type": "execute_result",
          "data": {
            "text/plain": [
              "<keras.callbacks.History at 0x7f75500ba520>"
            ]
          },
          "metadata": {},
          "execution_count": 16
        }
      ]
    },
    {
      "cell_type": "code",
      "source": [
        "model1.evaluate(x_test,y_test)"
      ],
      "metadata": {
        "colab": {
          "base_uri": "https://localhost:8080/"
        },
        "id": "aay1_9fvzs2z",
        "outputId": "80bdd1c7-47f3-41a8-faf1-a74ffd62548f"
      },
      "execution_count": null,
      "outputs": [
        {
          "output_type": "stream",
          "name": "stdout",
          "text": [
            "4/4 [==============================] - 0s 3ms/step - loss: 0.2634 - accuracy: 0.8860\n"
          ]
        },
        {
          "output_type": "execute_result",
          "data": {
            "text/plain": [
              "[0.26339903473854065, 0.8859649300575256]"
            ]
          },
          "metadata": {},
          "execution_count": 17
        }
      ]
    },
    {
      "cell_type": "code",
      "source": [
        "model2=Sequential()\n",
        "model2.add(Dense(64,input_shape=(30,),activation=\"relu\"))\n",
        "model2.add(Dense(128,activation=\"relu\"))\n",
        "model2.add(Dense(128,activation=\"relu\"))\n",
        "model2.add(Dense(1,activation=\"sigmoid\"))\n",
        "model2.summary()"
      ],
      "metadata": {
        "colab": {
          "base_uri": "https://localhost:8080/"
        },
        "id": "FC8PLxwS2Frn",
        "outputId": "d494d0f2-4aca-491d-fcce-3ee71113f5c8"
      },
      "execution_count": null,
      "outputs": [
        {
          "output_type": "stream",
          "name": "stdout",
          "text": [
            "Model: \"sequential_1\"\n",
            "_________________________________________________________________\n",
            " Layer (type)                Output Shape              Param #   \n",
            "=================================================================\n",
            " dense_4 (Dense)             (None, 64)                1984      \n",
            "                                                                 \n",
            " dense_5 (Dense)             (None, 128)               8320      \n",
            "                                                                 \n",
            " dense_6 (Dense)             (None, 128)               16512     \n",
            "                                                                 \n",
            " dense_7 (Dense)             (None, 1)                 129       \n",
            "                                                                 \n",
            "=================================================================\n",
            "Total params: 26,945\n",
            "Trainable params: 26,945\n",
            "Non-trainable params: 0\n",
            "_________________________________________________________________\n"
          ]
        }
      ]
    },
    {
      "cell_type": "code",
      "source": [
        "model2.compile(optimizer=\"adam\",loss=\"binary_crossentropy\",metrics=['accuracy'])"
      ],
      "metadata": {
        "id": "TDM47CiC2agh"
      },
      "execution_count": null,
      "outputs": []
    },
    {
      "cell_type": "code",
      "source": [
        "model2.fit(x,y,epochs=20,batch_size=64,validation_data=(x_test,y_test))"
      ],
      "metadata": {
        "colab": {
          "base_uri": "https://localhost:8080/"
        },
        "id": "j10LHv3c2kpS",
        "outputId": "8d40922f-315e-4a17-f8e3-591e0323b6f9"
      },
      "execution_count": null,
      "outputs": [
        {
          "output_type": "stream",
          "name": "stdout",
          "text": [
            "Epoch 1/20\n",
            "9/9 [==============================] - 0s 10ms/step - loss: 0.6736 - accuracy: 0.6274 - val_loss: 0.6790 - val_accuracy: 0.6140\n",
            "Epoch 2/20\n",
            "9/9 [==============================] - 0s 8ms/step - loss: 0.6612 - accuracy: 0.6274 - val_loss: 0.6699 - val_accuracy: 0.6140\n",
            "Epoch 3/20\n",
            "9/9 [==============================] - 0s 5ms/step - loss: 0.6625 - accuracy: 0.6274 - val_loss: 0.6670 - val_accuracy: 0.6140\n",
            "Epoch 4/20\n",
            "9/9 [==============================] - 0s 5ms/step - loss: 0.6625 - accuracy: 0.6274 - val_loss: 0.6671 - val_accuracy: 0.6140\n",
            "Epoch 5/20\n",
            "9/9 [==============================] - 0s 7ms/step - loss: 0.6627 - accuracy: 0.6274 - val_loss: 0.6703 - val_accuracy: 0.6140\n",
            "Epoch 6/20\n",
            "9/9 [==============================] - 0s 6ms/step - loss: 0.6629 - accuracy: 0.6274 - val_loss: 0.6692 - val_accuracy: 0.6140\n",
            "Epoch 7/20\n",
            "9/9 [==============================] - 0s 5ms/step - loss: 0.6609 - accuracy: 0.6274 - val_loss: 0.6673 - val_accuracy: 0.6140\n",
            "Epoch 8/20\n",
            "9/9 [==============================] - 0s 6ms/step - loss: 0.6643 - accuracy: 0.6274 - val_loss: 0.6679 - val_accuracy: 0.6140\n",
            "Epoch 9/20\n",
            "9/9 [==============================] - 0s 7ms/step - loss: 0.6602 - accuracy: 0.6274 - val_loss: 0.6669 - val_accuracy: 0.6140\n",
            "Epoch 10/20\n",
            "9/9 [==============================] - 0s 5ms/step - loss: 0.6610 - accuracy: 0.6274 - val_loss: 0.6670 - val_accuracy: 0.6140\n",
            "Epoch 11/20\n",
            "9/9 [==============================] - 0s 7ms/step - loss: 0.6604 - accuracy: 0.6274 - val_loss: 0.6682 - val_accuracy: 0.6140\n",
            "Epoch 12/20\n",
            "9/9 [==============================] - 0s 5ms/step - loss: 0.6615 - accuracy: 0.6274 - val_loss: 0.6671 - val_accuracy: 0.6140\n",
            "Epoch 13/20\n",
            "9/9 [==============================] - 0s 5ms/step - loss: 0.6634 - accuracy: 0.6274 - val_loss: 0.6693 - val_accuracy: 0.6140\n",
            "Epoch 14/20\n",
            "9/9 [==============================] - 0s 5ms/step - loss: 0.6595 - accuracy: 0.6274 - val_loss: 0.6670 - val_accuracy: 0.6140\n",
            "Epoch 15/20\n",
            "9/9 [==============================] - 0s 5ms/step - loss: 0.6619 - accuracy: 0.6274 - val_loss: 0.6670 - val_accuracy: 0.6140\n",
            "Epoch 16/20\n",
            "9/9 [==============================] - 0s 7ms/step - loss: 0.6612 - accuracy: 0.6274 - val_loss: 0.6677 - val_accuracy: 0.6140\n",
            "Epoch 17/20\n",
            "9/9 [==============================] - 0s 5ms/step - loss: 0.6611 - accuracy: 0.6274 - val_loss: 0.6677 - val_accuracy: 0.6140\n",
            "Epoch 18/20\n",
            "9/9 [==============================] - 0s 5ms/step - loss: 0.6640 - accuracy: 0.6274 - val_loss: 0.6670 - val_accuracy: 0.6140\n",
            "Epoch 19/20\n",
            "9/9 [==============================] - 0s 5ms/step - loss: 0.6603 - accuracy: 0.6274 - val_loss: 0.6697 - val_accuracy: 0.6140\n",
            "Epoch 20/20\n",
            "9/9 [==============================] - 0s 5ms/step - loss: 0.6623 - accuracy: 0.6274 - val_loss: 0.6675 - val_accuracy: 0.6140\n"
          ]
        },
        {
          "output_type": "execute_result",
          "data": {
            "text/plain": [
              "<keras.callbacks.History at 0x7f74e4285130>"
            ]
          },
          "metadata": {},
          "execution_count": 26
        }
      ]
    },
    {
      "cell_type": "code",
      "source": [
        "from sklearn.preprocessing import StandardScaler\n",
        "scaler=StandardScaler()\n",
        "scaler.fit(x)\n",
        "x_train=scaler.transform(x_train)\n",
        "x_test=scaler.transform(x_test)\n",
        "\n"
      ],
      "metadata": {
        "colab": {
          "base_uri": "https://localhost:8080/"
        },
        "id": "4pZaqZ4t4uxl",
        "outputId": "3901396e-dce7-41d7-a168-97ddde38aaec"
      },
      "execution_count": null,
      "outputs": [
        {
          "output_type": "stream",
          "name": "stderr",
          "text": [
            "/usr/local/lib/python3.8/dist-packages/sklearn/base.py:443: UserWarning: X has feature names, but StandardScaler was fitted without feature names\n",
            "  warnings.warn(\n",
            "/usr/local/lib/python3.8/dist-packages/sklearn/base.py:443: UserWarning: X has feature names, but StandardScaler was fitted without feature names\n",
            "  warnings.warn(\n"
          ]
        }
      ]
    },
    {
      "cell_type": "code",
      "source": [
        "model3=Sequential()\n",
        "model3.add(Dense(64,input_shape=(30,),activation=\"relu\"))\n",
        "model3.add(Dense(128,activation=\"relu\"))\n",
        "model3.add(Dense(128,activation=\"relu\"))\n",
        "model3.add(Dense(1,activation=\"sigmoid\"))\n",
        "model3.summary()"
      ],
      "metadata": {
        "colab": {
          "base_uri": "https://localhost:8080/"
        },
        "id": "YGb1CsEg5HvD",
        "outputId": "0510580f-47b4-49e5-f89b-9dcb90c34bee"
      },
      "execution_count": null,
      "outputs": [
        {
          "output_type": "stream",
          "name": "stdout",
          "text": [
            "Model: \"sequential_2\"\n",
            "_________________________________________________________________\n",
            " Layer (type)                Output Shape              Param #   \n",
            "=================================================================\n",
            " dense_8 (Dense)             (None, 64)                1984      \n",
            "                                                                 \n",
            " dense_9 (Dense)             (None, 128)               8320      \n",
            "                                                                 \n",
            " dense_10 (Dense)            (None, 128)               16512     \n",
            "                                                                 \n",
            " dense_11 (Dense)            (None, 1)                 129       \n",
            "                                                                 \n",
            "=================================================================\n",
            "Total params: 26,945\n",
            "Trainable params: 26,945\n",
            "Non-trainable params: 0\n",
            "_________________________________________________________________\n"
          ]
        }
      ]
    },
    {
      "cell_type": "code",
      "source": [
        "model3.compile(optimizer=\"adam\",loss=\"binary_crossentropy\",metrics=['accuracy'])"
      ],
      "metadata": {
        "id": "32qeTi1m50A5"
      },
      "execution_count": null,
      "outputs": []
    },
    {
      "cell_type": "code",
      "source": [
        "model3.fit(x_train,y_train,epochs=20,batch_size=64,validation_data=(x_test,y_test))"
      ],
      "metadata": {
        "colab": {
          "base_uri": "https://localhost:8080/"
        },
        "id": "meen2ysd53E5",
        "outputId": "c7b1580e-8b00-42a7-de11-177c93f70511"
      },
      "execution_count": null,
      "outputs": [
        {
          "output_type": "stream",
          "name": "stdout",
          "text": [
            "Epoch 1/20\n",
            "8/8 [==============================] - 1s 23ms/step - loss: 5.4875 - accuracy: 0.5385 - val_loss: 0.5477 - val_accuracy: 0.8596\n",
            "Epoch 2/20\n",
            "8/8 [==============================] - 0s 6ms/step - loss: 0.8385 - accuracy: 0.7516 - val_loss: 1.3313 - val_accuracy: 0.5789\n",
            "Epoch 3/20\n",
            "8/8 [==============================] - 0s 6ms/step - loss: 0.6253 - accuracy: 0.7868 - val_loss: 0.4088 - val_accuracy: 0.8860\n",
            "Epoch 4/20\n",
            "8/8 [==============================] - 0s 6ms/step - loss: 0.5371 - accuracy: 0.8637 - val_loss: 0.8080 - val_accuracy: 0.8596\n",
            "Epoch 5/20\n",
            "8/8 [==============================] - 0s 6ms/step - loss: 0.4754 - accuracy: 0.8813 - val_loss: 0.3782 - val_accuracy: 0.8947\n",
            "Epoch 6/20\n",
            "8/8 [==============================] - 0s 5ms/step - loss: 0.3203 - accuracy: 0.8989 - val_loss: 0.3553 - val_accuracy: 0.9035\n",
            "Epoch 7/20\n",
            "8/8 [==============================] - 0s 5ms/step - loss: 0.2193 - accuracy: 0.9187 - val_loss: 0.2874 - val_accuracy: 0.9211\n",
            "Epoch 8/20\n",
            "8/8 [==============================] - 0s 8ms/step - loss: 0.2356 - accuracy: 0.9253 - val_loss: 0.3252 - val_accuracy: 0.8947\n",
            "Epoch 9/20\n",
            "8/8 [==============================] - 0s 6ms/step - loss: 0.3633 - accuracy: 0.8769 - val_loss: 0.3150 - val_accuracy: 0.8947\n",
            "Epoch 10/20\n",
            "8/8 [==============================] - 0s 6ms/step - loss: 0.2627 - accuracy: 0.9143 - val_loss: 0.2950 - val_accuracy: 0.9123\n",
            "Epoch 11/20\n",
            "8/8 [==============================] - 0s 6ms/step - loss: 0.2420 - accuracy: 0.9231 - val_loss: 0.3361 - val_accuracy: 0.8947\n",
            "Epoch 12/20\n",
            "8/8 [==============================] - 0s 6ms/step - loss: 0.3068 - accuracy: 0.8923 - val_loss: 0.6930 - val_accuracy: 0.8684\n",
            "Epoch 13/20\n",
            "8/8 [==============================] - 0s 5ms/step - loss: 0.3156 - accuracy: 0.8923 - val_loss: 0.2817 - val_accuracy: 0.9123\n",
            "Epoch 14/20\n",
            "8/8 [==============================] - 0s 5ms/step - loss: 0.2475 - accuracy: 0.9143 - val_loss: 0.4222 - val_accuracy: 0.8509\n",
            "Epoch 15/20\n",
            "8/8 [==============================] - 0s 9ms/step - loss: 0.3700 - accuracy: 0.8835 - val_loss: 0.9300 - val_accuracy: 0.8421\n",
            "Epoch 16/20\n",
            "8/8 [==============================] - 0s 6ms/step - loss: 0.9043 - accuracy: 0.7868 - val_loss: 0.2757 - val_accuracy: 0.9123\n",
            "Epoch 17/20\n",
            "8/8 [==============================] - 0s 6ms/step - loss: 0.2499 - accuracy: 0.9143 - val_loss: 0.3428 - val_accuracy: 0.9123\n",
            "Epoch 18/20\n",
            "8/8 [==============================] - 0s 5ms/step - loss: 0.6125 - accuracy: 0.8374 - val_loss: 0.4258 - val_accuracy: 0.8860\n",
            "Epoch 19/20\n",
            "8/8 [==============================] - 0s 6ms/step - loss: 0.8246 - accuracy: 0.8286 - val_loss: 0.5992 - val_accuracy: 0.8860\n",
            "Epoch 20/20\n",
            "8/8 [==============================] - 0s 6ms/step - loss: 0.3160 - accuracy: 0.9077 - val_loss: 0.5784 - val_accuracy: 0.8772\n"
          ]
        },
        {
          "output_type": "execute_result",
          "data": {
            "text/plain": [
              "<keras.callbacks.History at 0x7f74e5fefb50>"
            ]
          },
          "metadata": {},
          "execution_count": 31
        }
      ]
    },
    {
      "cell_type": "code",
      "source": [
        "from tensorflow.keras.layers import Dropout\n"
      ],
      "metadata": {
        "id": "4s5NJBmZ85gg"
      },
      "execution_count": null,
      "outputs": []
    },
    {
      "cell_type": "code",
      "source": [
        "model4=Sequential()\n",
        "model4.add(Dense(64,input_shape=(30,),activation=\"relu\"))\n",
        "model4.add(Dropout(.2))\n",
        "model4.add(Dense(128,activation=\"relu\"))\n",
        "model4.add(Dropout(.2))\n",
        "model4.add(Dense(128,activation=\"relu\"))\n",
        "model4.add(Dense(1,activation=\"sigmoid\"))\n",
        "model4.summary()"
      ],
      "metadata": {
        "colab": {
          "base_uri": "https://localhost:8080/"
        },
        "id": "AcR7KmQB9OtG",
        "outputId": "2047d702-48a5-488e-e0de-fb9f786e9e5b"
      },
      "execution_count": null,
      "outputs": [
        {
          "output_type": "stream",
          "name": "stdout",
          "text": [
            "Model: \"sequential_3\"\n",
            "_________________________________________________________________\n",
            " Layer (type)                Output Shape              Param #   \n",
            "=================================================================\n",
            " dense_12 (Dense)            (None, 64)                1984      \n",
            "                                                                 \n",
            " dropout (Dropout)           (None, 64)                0         \n",
            "                                                                 \n",
            " dense_13 (Dense)            (None, 128)               8320      \n",
            "                                                                 \n",
            " dropout_1 (Dropout)         (None, 128)               0         \n",
            "                                                                 \n",
            " dense_14 (Dense)            (None, 128)               16512     \n",
            "                                                                 \n",
            " dense_15 (Dense)            (None, 1)                 129       \n",
            "                                                                 \n",
            "=================================================================\n",
            "Total params: 26,945\n",
            "Trainable params: 26,945\n",
            "Non-trainable params: 0\n",
            "_________________________________________________________________\n"
          ]
        }
      ]
    },
    {
      "cell_type": "code",
      "source": [
        "model4.compile(optimizer=\"adam\",loss=\"binary_crossentropy\",metrics=['accuracy'])"
      ],
      "metadata": {
        "id": "-Fkpv_kx9os5"
      },
      "execution_count": null,
      "outputs": []
    },
    {
      "cell_type": "code",
      "source": [
        "model4.fit(x_train,y_train,epochs=20,batch_size=64,validation_data=(x_test,y_test))"
      ],
      "metadata": {
        "colab": {
          "base_uri": "https://localhost:8080/"
        },
        "id": "kALeopcK92gP",
        "outputId": "b1b2d4ea-e7ca-4c10-e1e9-12cc1cd197b9"
      },
      "execution_count": null,
      "outputs": [
        {
          "output_type": "stream",
          "name": "stdout",
          "text": [
            "Epoch 1/20\n",
            "8/8 [==============================] - 1s 22ms/step - loss: 18.4659 - accuracy: 0.4571 - val_loss: 2.4945 - val_accuracy: 0.3860\n",
            "Epoch 2/20\n",
            "8/8 [==============================] - 0s 6ms/step - loss: 11.1971 - accuracy: 0.5538 - val_loss: 0.8755 - val_accuracy: 0.6842\n",
            "Epoch 3/20\n",
            "8/8 [==============================] - 0s 6ms/step - loss: 9.2628 - accuracy: 0.4681 - val_loss: 11.1002 - val_accuracy: 0.6140\n",
            "Epoch 4/20\n",
            "8/8 [==============================] - 0s 6ms/step - loss: 9.8307 - accuracy: 0.6066 - val_loss: 4.1484 - val_accuracy: 0.4035\n",
            "Epoch 5/20\n",
            "8/8 [==============================] - 0s 6ms/step - loss: 7.6212 - accuracy: 0.4923 - val_loss: 4.6703 - val_accuracy: 0.6754\n",
            "Epoch 6/20\n",
            "8/8 [==============================] - 0s 6ms/step - loss: 5.3912 - accuracy: 0.6901 - val_loss: 2.1265 - val_accuracy: 0.4298\n",
            "Epoch 7/20\n",
            "8/8 [==============================] - 0s 6ms/step - loss: 4.5701 - accuracy: 0.5890 - val_loss: 1.1555 - val_accuracy: 0.8684\n",
            "Epoch 8/20\n",
            "8/8 [==============================] - 0s 6ms/step - loss: 3.4254 - accuracy: 0.7319 - val_loss: 1.1290 - val_accuracy: 0.7456\n",
            "Epoch 9/20\n",
            "8/8 [==============================] - 0s 6ms/step - loss: 3.1052 - accuracy: 0.6747 - val_loss: 1.2374 - val_accuracy: 0.8421\n",
            "Epoch 10/20\n",
            "8/8 [==============================] - 0s 6ms/step - loss: 2.4125 - accuracy: 0.7516 - val_loss: 0.5742 - val_accuracy: 0.8772\n",
            "Epoch 11/20\n",
            "8/8 [==============================] - 0s 5ms/step - loss: 2.3748 - accuracy: 0.7385 - val_loss: 1.0932 - val_accuracy: 0.8421\n",
            "Epoch 12/20\n",
            "8/8 [==============================] - 0s 5ms/step - loss: 2.0445 - accuracy: 0.7648 - val_loss: 0.9418 - val_accuracy: 0.8509\n",
            "Epoch 13/20\n",
            "8/8 [==============================] - 0s 7ms/step - loss: 2.3739 - accuracy: 0.7451 - val_loss: 0.5754 - val_accuracy: 0.8684\n",
            "Epoch 14/20\n",
            "8/8 [==============================] - 0s 6ms/step - loss: 1.9261 - accuracy: 0.7253 - val_loss: 0.4433 - val_accuracy: 0.8772\n",
            "Epoch 15/20\n",
            "8/8 [==============================] - 0s 7ms/step - loss: 2.0140 - accuracy: 0.7099 - val_loss: 0.4728 - val_accuracy: 0.8860\n",
            "Epoch 16/20\n",
            "8/8 [==============================] - 0s 6ms/step - loss: 1.5799 - accuracy: 0.7846 - val_loss: 0.4541 - val_accuracy: 0.8772\n",
            "Epoch 17/20\n",
            "8/8 [==============================] - 0s 6ms/step - loss: 1.6006 - accuracy: 0.7451 - val_loss: 0.4350 - val_accuracy: 0.8860\n",
            "Epoch 18/20\n",
            "8/8 [==============================] - 0s 6ms/step - loss: 2.3786 - accuracy: 0.6549 - val_loss: 0.7492 - val_accuracy: 0.8684\n",
            "Epoch 19/20\n",
            "8/8 [==============================] - 0s 8ms/step - loss: 2.3402 - accuracy: 0.8044 - val_loss: 0.4172 - val_accuracy: 0.8772\n",
            "Epoch 20/20\n",
            "8/8 [==============================] - 0s 6ms/step - loss: 2.6108 - accuracy: 0.6484 - val_loss: 0.8936 - val_accuracy: 0.8596\n"
          ]
        },
        {
          "output_type": "execute_result",
          "data": {
            "text/plain": [
              "<keras.callbacks.History at 0x7f74e5a75160>"
            ]
          },
          "metadata": {},
          "execution_count": 35
        }
      ]
    }
  ]
}